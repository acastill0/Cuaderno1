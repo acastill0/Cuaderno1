{
 "cells": [
  {
   "cell_type": "markdown",
   "metadata": {},
   "source": [
    "**Estudiante:** Adriana Castillo\n",
    "\n",
    "\n",
    "# Covid-19 infección en Ecuador. Modelos probabilisticos\n",
    "Implementacion de un modelo probabilistico de infección por el virus Covid-19\n",
    "\n",
    "Se realiza un análisis probabilistico simple del crecimiento de la infección en Python y el modelos para comprender mejor la evolución de la infección.\n",
    "\n",
    "Se crea modelos de series temporales del número total de personas infectadas hasta la fecha (es decir, las personas realmente infectadas más las personas que han sido infectadas). Estos modelos tienen parámetros , que se estimarán por ajuste de probabilidad."
   ]
  },
  {
   "cell_type": "code",
   "execution_count": 1,
   "metadata": {},
   "outputs": [],
   "source": [
    "# Importar las librerias para el analasis\n",
    "import pandas as pd\n",
    "import numpy as np\n",
    "from datetime import datetime,timedelta\n",
    "from sklearn.metrics import mean_squared_error\n",
    "from scipy.optimize import curve_fit\n",
    "from scipy.optimize import fsolve\n",
    "from sklearn import linear_model\n",
    "import matplotlib.pyplot as plt\n",
    "%matplotlib inline\n"
   ]
  },
  {
   "cell_type": "code",
   "execution_count": 2,
   "metadata": {},
   "outputs": [
    {
     "data": {
      "text/html": [
       "<div>\n",
       "<style scoped>\n",
       "    .dataframe tbody tr th:only-of-type {\n",
       "        vertical-align: middle;\n",
       "    }\n",
       "\n",
       "    .dataframe tbody tr th {\n",
       "        vertical-align: top;\n",
       "    }\n",
       "\n",
       "    .dataframe thead th {\n",
       "        text-align: right;\n",
       "    }\n",
       "</style>\n",
       "<table border=\"1\" class=\"dataframe\">\n",
       "  <thead>\n",
       "    <tr style=\"text-align: right;\">\n",
       "      <th></th>\n",
       "      <th>date</th>\n",
       "      <th>World</th>\n",
       "      <th>Afghanistan</th>\n",
       "      <th>Albania</th>\n",
       "      <th>Algeria</th>\n",
       "      <th>Andorra</th>\n",
       "      <th>Angola</th>\n",
       "      <th>Anguilla</th>\n",
       "      <th>Antigua and Barbuda</th>\n",
       "      <th>Argentina</th>\n",
       "      <th>...</th>\n",
       "      <th>United States</th>\n",
       "      <th>United States Virgin Islands</th>\n",
       "      <th>Uruguay</th>\n",
       "      <th>Uzbekistan</th>\n",
       "      <th>Vatican</th>\n",
       "      <th>Venezuela</th>\n",
       "      <th>Vietnam</th>\n",
       "      <th>Yemen</th>\n",
       "      <th>Zambia</th>\n",
       "      <th>Zimbabwe</th>\n",
       "    </tr>\n",
       "  </thead>\n",
       "  <tbody>\n",
       "    <tr>\n",
       "      <td>0</td>\n",
       "      <td>2019-12-31</td>\n",
       "      <td>27</td>\n",
       "      <td>0.0</td>\n",
       "      <td>NaN</td>\n",
       "      <td>0.0</td>\n",
       "      <td>NaN</td>\n",
       "      <td>NaN</td>\n",
       "      <td>NaN</td>\n",
       "      <td>NaN</td>\n",
       "      <td>NaN</td>\n",
       "      <td>...</td>\n",
       "      <td>0</td>\n",
       "      <td>NaN</td>\n",
       "      <td>NaN</td>\n",
       "      <td>NaN</td>\n",
       "      <td>NaN</td>\n",
       "      <td>NaN</td>\n",
       "      <td>0.0</td>\n",
       "      <td>NaN</td>\n",
       "      <td>NaN</td>\n",
       "      <td>NaN</td>\n",
       "    </tr>\n",
       "    <tr>\n",
       "      <td>1</td>\n",
       "      <td>2020-01-01</td>\n",
       "      <td>0</td>\n",
       "      <td>0.0</td>\n",
       "      <td>NaN</td>\n",
       "      <td>0.0</td>\n",
       "      <td>NaN</td>\n",
       "      <td>NaN</td>\n",
       "      <td>NaN</td>\n",
       "      <td>NaN</td>\n",
       "      <td>NaN</td>\n",
       "      <td>...</td>\n",
       "      <td>0</td>\n",
       "      <td>NaN</td>\n",
       "      <td>NaN</td>\n",
       "      <td>NaN</td>\n",
       "      <td>NaN</td>\n",
       "      <td>NaN</td>\n",
       "      <td>0.0</td>\n",
       "      <td>NaN</td>\n",
       "      <td>NaN</td>\n",
       "      <td>NaN</td>\n",
       "    </tr>\n",
       "    <tr>\n",
       "      <td>2</td>\n",
       "      <td>2020-01-02</td>\n",
       "      <td>0</td>\n",
       "      <td>0.0</td>\n",
       "      <td>NaN</td>\n",
       "      <td>0.0</td>\n",
       "      <td>NaN</td>\n",
       "      <td>NaN</td>\n",
       "      <td>NaN</td>\n",
       "      <td>NaN</td>\n",
       "      <td>NaN</td>\n",
       "      <td>...</td>\n",
       "      <td>0</td>\n",
       "      <td>NaN</td>\n",
       "      <td>NaN</td>\n",
       "      <td>NaN</td>\n",
       "      <td>NaN</td>\n",
       "      <td>NaN</td>\n",
       "      <td>0.0</td>\n",
       "      <td>NaN</td>\n",
       "      <td>NaN</td>\n",
       "      <td>NaN</td>\n",
       "    </tr>\n",
       "    <tr>\n",
       "      <td>3</td>\n",
       "      <td>2020-01-03</td>\n",
       "      <td>17</td>\n",
       "      <td>0.0</td>\n",
       "      <td>NaN</td>\n",
       "      <td>0.0</td>\n",
       "      <td>NaN</td>\n",
       "      <td>NaN</td>\n",
       "      <td>NaN</td>\n",
       "      <td>NaN</td>\n",
       "      <td>NaN</td>\n",
       "      <td>...</td>\n",
       "      <td>0</td>\n",
       "      <td>NaN</td>\n",
       "      <td>NaN</td>\n",
       "      <td>NaN</td>\n",
       "      <td>NaN</td>\n",
       "      <td>NaN</td>\n",
       "      <td>0.0</td>\n",
       "      <td>NaN</td>\n",
       "      <td>NaN</td>\n",
       "      <td>NaN</td>\n",
       "    </tr>\n",
       "    <tr>\n",
       "      <td>4</td>\n",
       "      <td>2020-01-04</td>\n",
       "      <td>0</td>\n",
       "      <td>0.0</td>\n",
       "      <td>NaN</td>\n",
       "      <td>0.0</td>\n",
       "      <td>NaN</td>\n",
       "      <td>NaN</td>\n",
       "      <td>NaN</td>\n",
       "      <td>NaN</td>\n",
       "      <td>NaN</td>\n",
       "      <td>...</td>\n",
       "      <td>0</td>\n",
       "      <td>NaN</td>\n",
       "      <td>NaN</td>\n",
       "      <td>NaN</td>\n",
       "      <td>NaN</td>\n",
       "      <td>NaN</td>\n",
       "      <td>0.0</td>\n",
       "      <td>NaN</td>\n",
       "      <td>NaN</td>\n",
       "      <td>NaN</td>\n",
       "    </tr>\n",
       "    <tr>\n",
       "      <td>...</td>\n",
       "      <td>...</td>\n",
       "      <td>...</td>\n",
       "      <td>...</td>\n",
       "      <td>...</td>\n",
       "      <td>...</td>\n",
       "      <td>...</td>\n",
       "      <td>...</td>\n",
       "      <td>...</td>\n",
       "      <td>...</td>\n",
       "      <td>...</td>\n",
       "      <td>...</td>\n",
       "      <td>...</td>\n",
       "      <td>...</td>\n",
       "      <td>...</td>\n",
       "      <td>...</td>\n",
       "      <td>...</td>\n",
       "      <td>...</td>\n",
       "      <td>...</td>\n",
       "      <td>...</td>\n",
       "      <td>...</td>\n",
       "      <td>...</td>\n",
       "    </tr>\n",
       "    <tr>\n",
       "      <td>111</td>\n",
       "      <td>2020-04-20</td>\n",
       "      <td>74142</td>\n",
       "      <td>88.0</td>\n",
       "      <td>14.0</td>\n",
       "      <td>94.0</td>\n",
       "      <td>9.0</td>\n",
       "      <td>0.0</td>\n",
       "      <td>0.0</td>\n",
       "      <td>0.0</td>\n",
       "      <td>102.0</td>\n",
       "      <td>...</td>\n",
       "      <td>24601</td>\n",
       "      <td>0.0</td>\n",
       "      <td>11.0</td>\n",
       "      <td>70.0</td>\n",
       "      <td>0.0</td>\n",
       "      <td>29.0</td>\n",
       "      <td>0.0</td>\n",
       "      <td>0.0</td>\n",
       "      <td>4.0</td>\n",
       "      <td>0.0</td>\n",
       "    </tr>\n",
       "    <tr>\n",
       "      <td>112</td>\n",
       "      <td>2020-04-21</td>\n",
       "      <td>77274</td>\n",
       "      <td>35.0</td>\n",
       "      <td>22.0</td>\n",
       "      <td>89.0</td>\n",
       "      <td>4.0</td>\n",
       "      <td>0.0</td>\n",
       "      <td>0.0</td>\n",
       "      <td>0.0</td>\n",
       "      <td>90.0</td>\n",
       "      <td>...</td>\n",
       "      <td>28065</td>\n",
       "      <td>1.0</td>\n",
       "      <td>7.0</td>\n",
       "      <td>92.0</td>\n",
       "      <td>1.0</td>\n",
       "      <td>0.0</td>\n",
       "      <td>0.0</td>\n",
       "      <td>0.0</td>\n",
       "      <td>4.0</td>\n",
       "      <td>0.0</td>\n",
       "    </tr>\n",
       "    <tr>\n",
       "      <td>113</td>\n",
       "      <td>2020-04-22</td>\n",
       "      <td>87387</td>\n",
       "      <td>61.0</td>\n",
       "      <td>25.0</td>\n",
       "      <td>93.0</td>\n",
       "      <td>0.0</td>\n",
       "      <td>0.0</td>\n",
       "      <td>0.0</td>\n",
       "      <td>1.0</td>\n",
       "      <td>112.0</td>\n",
       "      <td>...</td>\n",
       "      <td>37289</td>\n",
       "      <td>0.0</td>\n",
       "      <td>8.0</td>\n",
       "      <td>35.0</td>\n",
       "      <td>0.0</td>\n",
       "      <td>29.0</td>\n",
       "      <td>0.0</td>\n",
       "      <td>0.0</td>\n",
       "      <td>0.0</td>\n",
       "      <td>3.0</td>\n",
       "    </tr>\n",
       "    <tr>\n",
       "      <td>114</td>\n",
       "      <td>2020-04-23</td>\n",
       "      <td>67629</td>\n",
       "      <td>84.0</td>\n",
       "      <td>25.0</td>\n",
       "      <td>99.0</td>\n",
       "      <td>6.0</td>\n",
       "      <td>0.0</td>\n",
       "      <td>0.0</td>\n",
       "      <td>0.0</td>\n",
       "      <td>144.0</td>\n",
       "      <td>...</td>\n",
       "      <td>17588</td>\n",
       "      <td>0.0</td>\n",
       "      <td>6.0</td>\n",
       "      <td>24.0</td>\n",
       "      <td>0.0</td>\n",
       "      <td>3.0</td>\n",
       "      <td>0.0</td>\n",
       "      <td>0.0</td>\n",
       "      <td>9.0</td>\n",
       "      <td>0.0</td>\n",
       "    </tr>\n",
       "    <tr>\n",
       "      <td>115</td>\n",
       "      <td>2020-04-24</td>\n",
       "      <td>80071</td>\n",
       "      <td>105.0</td>\n",
       "      <td>29.0</td>\n",
       "      <td>97.0</td>\n",
       "      <td>1.0</td>\n",
       "      <td>1.0</td>\n",
       "      <td>0.0</td>\n",
       "      <td>0.0</td>\n",
       "      <td>147.0</td>\n",
       "      <td>...</td>\n",
       "      <td>26543</td>\n",
       "      <td>0.0</td>\n",
       "      <td>8.0</td>\n",
       "      <td>62.0</td>\n",
       "      <td>0.0</td>\n",
       "      <td>10.0</td>\n",
       "      <td>0.0</td>\n",
       "      <td>0.0</td>\n",
       "      <td>2.0</td>\n",
       "      <td>1.0</td>\n",
       "    </tr>\n",
       "  </tbody>\n",
       "</table>\n",
       "<p>116 rows × 208 columns</p>\n",
       "</div>"
      ],
      "text/plain": [
       "           date  World  Afghanistan  Albania  Algeria  Andorra  Angola  \\\n",
       "0    2019-12-31     27          0.0      NaN      0.0      NaN     NaN   \n",
       "1    2020-01-01      0          0.0      NaN      0.0      NaN     NaN   \n",
       "2    2020-01-02      0          0.0      NaN      0.0      NaN     NaN   \n",
       "3    2020-01-03     17          0.0      NaN      0.0      NaN     NaN   \n",
       "4    2020-01-04      0          0.0      NaN      0.0      NaN     NaN   \n",
       "..          ...    ...          ...      ...      ...      ...     ...   \n",
       "111  2020-04-20  74142         88.0     14.0     94.0      9.0     0.0   \n",
       "112  2020-04-21  77274         35.0     22.0     89.0      4.0     0.0   \n",
       "113  2020-04-22  87387         61.0     25.0     93.0      0.0     0.0   \n",
       "114  2020-04-23  67629         84.0     25.0     99.0      6.0     0.0   \n",
       "115  2020-04-24  80071        105.0     29.0     97.0      1.0     1.0   \n",
       "\n",
       "     Anguilla  Antigua and Barbuda  Argentina  ...  United States  \\\n",
       "0         NaN                  NaN        NaN  ...              0   \n",
       "1         NaN                  NaN        NaN  ...              0   \n",
       "2         NaN                  NaN        NaN  ...              0   \n",
       "3         NaN                  NaN        NaN  ...              0   \n",
       "4         NaN                  NaN        NaN  ...              0   \n",
       "..        ...                  ...        ...  ...            ...   \n",
       "111       0.0                  0.0      102.0  ...          24601   \n",
       "112       0.0                  0.0       90.0  ...          28065   \n",
       "113       0.0                  1.0      112.0  ...          37289   \n",
       "114       0.0                  0.0      144.0  ...          17588   \n",
       "115       0.0                  0.0      147.0  ...          26543   \n",
       "\n",
       "     United States Virgin Islands  Uruguay  Uzbekistan  Vatican  Venezuela  \\\n",
       "0                             NaN      NaN         NaN      NaN        NaN   \n",
       "1                             NaN      NaN         NaN      NaN        NaN   \n",
       "2                             NaN      NaN         NaN      NaN        NaN   \n",
       "3                             NaN      NaN         NaN      NaN        NaN   \n",
       "4                             NaN      NaN         NaN      NaN        NaN   \n",
       "..                            ...      ...         ...      ...        ...   \n",
       "111                           0.0     11.0        70.0      0.0       29.0   \n",
       "112                           1.0      7.0        92.0      1.0        0.0   \n",
       "113                           0.0      8.0        35.0      0.0       29.0   \n",
       "114                           0.0      6.0        24.0      0.0        3.0   \n",
       "115                           0.0      8.0        62.0      0.0       10.0   \n",
       "\n",
       "     Vietnam  Yemen  Zambia  Zimbabwe  \n",
       "0        0.0    NaN     NaN       NaN  \n",
       "1        0.0    NaN     NaN       NaN  \n",
       "2        0.0    NaN     NaN       NaN  \n",
       "3        0.0    NaN     NaN       NaN  \n",
       "4        0.0    NaN     NaN       NaN  \n",
       "..       ...    ...     ...       ...  \n",
       "111      0.0    0.0     4.0       0.0  \n",
       "112      0.0    0.0     4.0       0.0  \n",
       "113      0.0    0.0     0.0       3.0  \n",
       "114      0.0    0.0     9.0       0.0  \n",
       "115      0.0    0.0     2.0       1.0  \n",
       "\n",
       "[116 rows x 208 columns]"
      ]
     },
     "execution_count": 2,
     "metadata": {},
     "output_type": "execute_result"
    }
   ],
   "source": [
    "# Actualizar los datos (URL)\n",
    "url = 'https://covid.ourworldindata.org/data/ecdc/new_cases.csv'\n",
    "df = pd.read_csv(url)\n",
    "df"
   ]
  },
  {
   "cell_type": "markdown",
   "metadata": {},
   "source": [
    "Imprimos los resultados y agregamos el numero del dia\n"
   ]
  },
  {
   "cell_type": "code",
   "execution_count": 3,
   "metadata": {},
   "outputs": [
    {
     "data": {
      "text/html": [
       "<div>\n",
       "<style scoped>\n",
       "    .dataframe tbody tr th:only-of-type {\n",
       "        vertical-align: middle;\n",
       "    }\n",
       "\n",
       "    .dataframe tbody tr th {\n",
       "        vertical-align: top;\n",
       "    }\n",
       "\n",
       "    .dataframe thead th {\n",
       "        text-align: right;\n",
       "    }\n",
       "</style>\n",
       "<table border=\"1\" class=\"dataframe\">\n",
       "  <thead>\n",
       "    <tr style=\"text-align: right;\">\n",
       "      <th></th>\n",
       "      <th>date</th>\n",
       "      <th>Ecuador</th>\n",
       "    </tr>\n",
       "  </thead>\n",
       "  <tbody>\n",
       "    <tr>\n",
       "      <td>0</td>\n",
       "      <td>-1</td>\n",
       "      <td>0.0</td>\n",
       "    </tr>\n",
       "    <tr>\n",
       "      <td>1</td>\n",
       "      <td>0</td>\n",
       "      <td>0.0</td>\n",
       "    </tr>\n",
       "    <tr>\n",
       "      <td>2</td>\n",
       "      <td>1</td>\n",
       "      <td>0.0</td>\n",
       "    </tr>\n",
       "    <tr>\n",
       "      <td>3</td>\n",
       "      <td>2</td>\n",
       "      <td>0.0</td>\n",
       "    </tr>\n",
       "    <tr>\n",
       "      <td>4</td>\n",
       "      <td>3</td>\n",
       "      <td>0.0</td>\n",
       "    </tr>\n",
       "    <tr>\n",
       "      <td>...</td>\n",
       "      <td>...</td>\n",
       "      <td>...</td>\n",
       "    </tr>\n",
       "    <tr>\n",
       "      <td>111</td>\n",
       "      <td>110</td>\n",
       "      <td>446.0</td>\n",
       "    </tr>\n",
       "    <tr>\n",
       "      <td>112</td>\n",
       "      <td>111</td>\n",
       "      <td>660.0</td>\n",
       "    </tr>\n",
       "    <tr>\n",
       "      <td>113</td>\n",
       "      <td>112</td>\n",
       "      <td>270.0</td>\n",
       "    </tr>\n",
       "    <tr>\n",
       "      <td>114</td>\n",
       "      <td>113</td>\n",
       "      <td>452.0</td>\n",
       "    </tr>\n",
       "    <tr>\n",
       "      <td>115</td>\n",
       "      <td>114</td>\n",
       "      <td>333.0</td>\n",
       "    </tr>\n",
       "  </tbody>\n",
       "</table>\n",
       "<p>116 rows × 2 columns</p>\n",
       "</div>"
      ],
      "text/plain": [
       "     date  Ecuador\n",
       "0      -1      0.0\n",
       "1       0      0.0\n",
       "2       1      0.0\n",
       "3       2      0.0\n",
       "4       3      0.0\n",
       "..    ...      ...\n",
       "111   110    446.0\n",
       "112   111    660.0\n",
       "113   112    270.0\n",
       "114   113    452.0\n",
       "115   114    333.0\n",
       "\n",
       "[116 rows x 2 columns]"
      ]
     },
     "execution_count": 3,
     "metadata": {},
     "output_type": "execute_result"
    }
   ],
   "source": [
    "df = df.loc[:,['date','Ecuador']] #Selecciono las columnas de analasis\n",
    "# Expresar las fechas en numero de dias desde el 01 Enero\n",
    "FMT = '%Y-%m-%d'\n",
    "date = df['date']\n",
    "df['date'] = date.map(lambda x : (datetime.strptime(x, FMT) - datetime.strptime(\"2020-01-01\", FMT)).days)\n",
    "df"
   ]
  },
  {
   "cell_type": "code",
   "execution_count": 4,
   "metadata": {},
   "outputs": [
    {
     "data": {
      "text/plain": [
       "<matplotlib.axes._subplots.AxesSubplot at 0x10a862890>"
      ]
     },
     "execution_count": 4,
     "metadata": {},
     "output_type": "execute_result"
    },
    {
     "data": {
      "image/png": "[encoded data removed]",
      "text/plain": [
       "<Figure size 432x288 with 1 Axes>"
      ]
     },
     "metadata": {
      "needs_background": "light"
     },
     "output_type": "display_data"
    }
   ],
   "source": [
    "df.plot(x ='date', y='Ecuador')"
   ]
  },
  {
   "cell_type": "markdown",
   "metadata": {},
   "source": [
    "Ahora podemos analizar un modelo probabilisto para el examen.\n",
    "\n",
    "## El modelo basado en probabilidad\n",
    "\n",
    "Para realizar un estimacion del factor de crecimiento de los casos de Covid 19 en Ecuador calculamos la mediana, con esto obtenemo el valor medio de crecimiento de un conjunto de datos, con esto podemos obtener un factor de crecimiento o taza de crecimiento de los nuevos casos.\n",
    "\n"
   ]
  },
  {
   "cell_type": "code",
   "execution_count": 5,
   "metadata": {},
   "outputs": [
    {
     "name": "stdout",
     "output_type": "stream",
     "text": [
      "155.0\n",
      "223.66\n"
     ]
    }
   ],
   "source": [
    "filtro = df[\"Ecuador\"][61:] # Filtro los datos que se empezo a tener casos\n",
    "#Obtenemos la mediana\n",
    "media = filtro.mean()\n",
    "mediana = filtro.median()\n",
    "print(mediana)\n",
    "print(media)"
   ]
  },
  {
   "cell_type": "markdown",
   "metadata": {},
   "source": [
    "De la ecuación de la recta y = mX + b nuestra pendiente «m» es el coeficiente y el término independiente «b»\n"
   ]
  },
  {
   "cell_type": "code",
   "execution_count": 6,
   "metadata": {},
   "outputs": [
    {
     "name": "stdout",
     "output_type": "stream",
     "text": [
      "11338\n"
     ]
    }
   ],
   "source": [
    "#Vamos a comprobar:\n",
    "# según la media y la mediana podemos obtener la taza de crecieminto y predicir su comportamiento.\n",
    "# Cargamos los datos de total de casos\n",
    "url = 'https://covid.ourworldindata.org/data/ecdc/total_cases.csv'\n",
    "df_t = pd.read_csv(url)\n",
    "df_t = df_t.replace(np.nan, 0)\n",
    "\n",
    "\n",
    "FMT = '%Y-%m-%d'\n",
    "date = df_t['date']\n",
    "df_t['date'] = date.map(lambda x : (datetime.strptime(x, FMT) - datetime.strptime(\"2020-01-01\", FMT)).days)\n",
    "df_t = df_t.loc[:,['date','Ecuador']] #Selecciono las columnas de analasis\n",
    "y = list(df_t.iloc [:, 1]) # Total casos\n",
    "x = list(df_t.iloc [:, 0]) # Dias\n",
    "#Realizamos un ejemplo de prediccion\n",
    "prediccion_siguiente = int(y[-1] + mediana)\n",
    "print(prediccion_siguiente)"
   ]
  },
  {
   "cell_type": "code",
   "execution_count": 7,
   "metadata": {},
   "outputs": [
    {
     "data": {
      "image/png": "[encoded data removed]",
      "text/plain": [
       "<Figure size 432x288 with 1 Axes>"
      ]
     },
     "metadata": {
      "needs_background": "light"
     },
     "output_type": "display_data"
    }
   ],
   "source": [
    "# Quiero predecir cuántos \"Casos\" voy a obtener de aqui a 10 dias.\n",
    "for i in range(x[-1], x[-1]+10):\n",
    "    x.append(i)\n",
    "    y.append(int(y[-1] + mediana))\n",
    "plt.plot(x[61:], y[61:])\n",
    "plt.show()"
   ]
  },
  {
   "cell_type": "markdown",
   "metadata": {},
   "source": [
    "# Practica\n",
    "\n",
    "1. Comparar el modelo de predicion matematico vs probabilidad.\n",
    "2. Generar el SIR en base al modelo de probabilidad y obtener beta y gamma con una semana de prediccion.\n",
    "3. Retroceder un semana y comparar el modelo matematico vs probabilidad vs reales. Solo cargan los datos para generar los modelos menos 7 dias.\n",
    "\n",
    "Puntos extras: Investigas sobre la correlacion de variables y aplicar el calculo en base a los datos del Ecuador."
   ]
  },
  {
   "cell_type": "markdown",
   "metadata": {},
   "source": [
    "## 1. Comparar el modelo de predicion matematico vs probabilidad."
   ]
  },
  {
   "cell_type": "markdown",
   "metadata": {},
   "source": [
    "#### Modelo polinomial"
   ]
  },
  {
   "cell_type": "code",
   "execution_count": 8,
   "metadata": {},
   "outputs": [
    {
     "name": "stdout",
     "output_type": "stream",
     "text": [
      "w=  [ 1.07513321e+02 -4.14568499e+00  4.44611042e-02 -7.94705255e-05] \n",
      "b=  -503.5455692135406 \n",
      "RMSE: 549.643659987212 \n",
      "R2: 0.9811710484699933\n",
      "\n",
      "Predicción en una semana: 13538\n"
     ]
    }
   ],
   "source": [
    "from sklearn.preprocessing import PolynomialFeatures \n",
    "from sklearn.linear_model import LinearRegression \n",
    "from sklearn.metrics import mean_squared_error, r2_score\n",
    "\n",
    "xp = np.array(range(min(x),max(x)))\n",
    "grado=4\n",
    "model = LinearRegression()\n",
    "poly = PolynomialFeatures(degree=grado, include_bias=False)\n",
    "x_poly = poly.fit_transform(np.array(x).reshape(-1, 1))\n",
    "model.fit(x_poly, y)\n",
    "y_pred = model.predict(x_poly)\n",
    "rl = LinearRegression()\n",
    "rl.fit(x_poly, y) \n",
    "casos = poly.fit_transform(np.array(xp).reshape(-1, 1))\n",
    "prediccion = rl.predict(casos)\n",
    "rmse = np.sqrt(mean_squared_error(y,y_pred))\n",
    "r2 = r2_score(y,y_pred)\n",
    "print('w= ',model.coef_,'\\nb= ',model.intercept_,'\\nRMSE: ' + str(rmse),'\\nR2: ' + str(r2))\n",
    "\n",
    "print ('\\nPredicción en una semana:', int(prediccion[122]))\n"
   ]
  },
  {
   "cell_type": "code",
   "execution_count": 9,
   "metadata": {},
   "outputs": [
    {
     "data": {
      "image/png": "[encoded data removed]",
      "text/plain": [
       "<Figure size 432x288 with 1 Axes>"
      ]
     },
     "metadata": {
      "needs_background": "light"
     },
     "output_type": "display_data"
    }
   ],
   "source": [
    "sols = {}\n",
    "for grado in range(grado,grado+1):\n",
    "    z = np.polyfit(x, y, grado, full=True)\n",
    "    sols[grado] = z\n",
    "    \n",
    "xp = np.array(range(min(x),max(x)+100))\n",
    "for grado, sol in sols.items():\n",
    "    coefs, error, *_ = sol\n",
    "    p = np.poly1d(coefs)\n",
    "\n",
    "plt.scatter(x, y)\n",
    "plt.plot(xp, p(xp), color='r')\n",
    "\n",
    "plt.xlim(60, max(x)*1.21)\n",
    "plt.ylim(0, max(y)*3.8)\n",
    "plt.ylabel(\"Total de personas infectadas\")\n",
    "plt.show()"
   ]
  },
  {
   "cell_type": "markdown",
   "metadata": {},
   "source": [
    "#### Modelo probabilístico"
   ]
  },
  {
   "cell_type": "code",
   "execution_count": 10,
   "metadata": {},
   "outputs": [
    {
     "name": "stdout",
     "output_type": "stream",
     "text": [
      "Predicción: 11338\n",
      "Predicción en una semana:  12740\n"
     ]
    }
   ],
   "source": [
    "url = 'https://covid.ourworldindata.org/data/ecdc/total_cases.csv'\n",
    "df_t = pd.read_csv(url)\n",
    "df_t = df_t.replace(np.nan, 0)\n",
    "\n",
    "FMT = '%Y-%m-%d'\n",
    "date = df_t['date']\n",
    "df_t['date'] = date.map(lambda x : (datetime.strptime(x, FMT) - datetime.strptime(\"2020-01-01\", FMT)).days)\n",
    "df_t = df_t.loc[:,['date','Ecuador']] #Selecciono las columnas de analasis\n",
    "y_p = list(df_t.iloc [:, 1]) # Total casos\n",
    "x_p = list(df_t.iloc [:, 0]) # Dias\n",
    "prediccion_semana = int(y_p[-1] + mediana)\n",
    "print('Predicción:',prediccion_semana)\n",
    "print('Predicción en una semana: ',y[-1]+7)"
   ]
  },
  {
   "cell_type": "code",
   "execution_count": 11,
   "metadata": {},
   "outputs": [
    {
     "data": {
      "image/png": "[encoded data removed]",
      "text/plain": [
       "<Figure size 432x288 with 1 Axes>"
      ]
     },
     "metadata": {
      "needs_background": "light"
     },
     "output_type": "display_data"
    }
   ],
   "source": [
    "for i in range(x_p[-1], x_p[-1]+7):\n",
    "    x_p.append(i)\n",
    "    y_p.append(int(y_p[-1] + mediana))\n",
    "plt.plot(x_p[61:], y_p[61:])\n",
    "plt.show()"
   ]
  },
  {
   "cell_type": "markdown",
   "metadata": {},
   "source": [
    "## 2. Generar el SIR en base al modelo de probabilidad y obtener beta y gamma con una semana de prediccion."
   ]
  },
  {
   "cell_type": "code",
   "execution_count": 21,
   "metadata": {},
   "outputs": [
    {
     "name": "stdout",
     "output_type": "stream",
     "text": [
      "\n",
      "Ecuador, beta=0.35000000, gamma=0.23000000, R0:1.52173913\n"
     ]
    }
   ],
   "source": [
    "import numpy as np\n",
    "import pandas as pd\n",
    "from csv import reader\n",
    "from csv import writer\n",
    "from scipy.integrate import solve_ivp\n",
    "from scipy.optimize import minimize\n",
    "import matplotlib.pyplot as plt\n",
    "from datetime import timedelta, datetime\n",
    "import argparse\n",
    "import sys\n",
    "import json\n",
    "import ssl\n",
    "import urllib.request\n",
    "\n",
    "class Learner(object):\n",
    "    def __init__(self, country, loss, start_date,s_0, i_0, r_0):\n",
    "        self.country = country\n",
    "        self.loss = loss\n",
    "        self.start_date = start_date\n",
    "        self.s_0 = s_0\n",
    "        self.i_0 = i_0\n",
    "        self.r_0 = r_0\n",
    "        self.Beta = 0\n",
    "        self.Gamma = 0\n",
    "        self.R0=0\n",
    "\n",
    "    def train(self):\n",
    "        data = y_p\n",
    "        self.i0=data[-1]\n",
    "        optimal = minimize(loss, [0.001, 0.001], args=(data, self.s_0, self.i_0, self.r_0), method='L-BFGS-B', bounds=[(0.00000001, 0.35), (0.00000001, 0.23)])\n",
    "        beta, gamma = optimal.x\n",
    "        self.Beta, self.Gamma = optimal.x\n",
    "        df = pd.DataFrame(y)\n",
    "        self.R0=(beta/gamma)\n",
    "        print(f\"\\n{self.country}, beta={beta:.8f}, gamma={gamma:.8f}, R0:{(beta/gamma):.8f}\")\n",
    "        \n",
    "def loss(point, data, s_0, i_0, r_0):\n",
    "    size = len(data)\n",
    "    beta, gamma = point\n",
    "    def SIR(t, y):\n",
    "        S = y[0]\n",
    "        I = y[1]\n",
    "        R = y[2]\n",
    "        return [-beta*S*I, beta*S*I-gamma*I, gamma*I]\n",
    "    solution = solve_ivp(SIR, [0, size], [s_0,i_0,r_0], t_eval=np.arange(0, size, 1), vectorized=True)\n",
    "    return np.sqrt(np.mean((solution.y[1] - data)**2))\n",
    "\n",
    "poblacion=35000\n",
    "i0=1\n",
    "r0=0\n",
    "s0=poblacion - i0 - r0\n",
    "sir = Learner('Ecuador', loss, '2020-01-01', s0, i0, r0)\n",
    "sir.train()"
   ]
  },
  {
   "cell_type": "code",
   "execution_count": 20,
   "metadata": {},
   "outputs": [
    {
     "data": {
      "image/png": "[encoded data removed]",
      "text/plain": [
       "<Figure size 432x288 with 1 Axes>"
      ]
     },
     "metadata": {},
     "output_type": "display_data"
    }
   ],
   "source": [
    "import numpy as np\n",
    "from scipy.integrate import odeint\n",
    "import matplotlib.pyplot as plt\n",
    "\n",
    "N = poblacion\n",
    "I0 = i0\n",
    "R0 = 0\n",
    "S0 = N - I0 - R0\n",
    "beta, gamma = sir.Beta, sir.Gamma \n",
    "t = np.linspace(0, 130, 130)\n",
    "\n",
    "def deriv(y, t, N, beta, gamma):\n",
    "    S, I, R = y\n",
    "    dSdt = -beta * S * I / N \n",
    "    dIdt = beta * S * I / N - gamma * I\n",
    "    dRdt = gamma * I\n",
    "    return dSdt, dIdt, dRdt\n",
    "\n",
    "y0 = S0, I0, R0\n",
    "ret = odeint(deriv, y0, t, args=(N, beta, gamma))\n",
    "S, I, R = ret.T # Obtenicion de resultados\n",
    "\n",
    "fig = plt.figure(facecolor='w')\n",
    "ax = fig.add_subplot(111,  axisbelow=True)\n",
    "ax.plot(t, S, 'b', alpha=0.5, lw=2, label='Sustible de infeccion')\n",
    "ax.plot(t, I, 'r', alpha=0.5, lw=2, label='Infectados')\n",
    "ax.plot(t, R, 'g', alpha=0.5, lw=2, label='Recuperados')\n",
    "ax.set_xlabel('Tiempo en dias')\n",
    "ax.set_ylabel('Numero de Personas')\n",
    "ax.yaxis.set_tick_params(length=0)\n",
    "ax.xaxis.set_tick_params(length=0)\n",
    "ax.grid(b=True, which='major', c='w', lw=2, ls='-')\n",
    "legend = ax.legend()\n",
    "legend.get_frame().set_alpha(0.5)\n",
    "for spine in ('top', 'right', 'bottom', 'left'):\n",
    "    ax.spines[spine].set_visible(False)\n",
    "plt.show()"
   ]
  },
  {
   "cell_type": "markdown",
   "metadata": {},
   "source": [
    "## 3. Retroceder un semana y comparar el modelo matematico vs probabilidad vs reales. Solo cargan los datos para generar los modelos menos 7 dias."
   ]
  },
  {
   "cell_type": "markdown",
   "metadata": {},
   "source": [
    "#### Modelo probabilístico"
   ]
  },
  {
   "cell_type": "code",
   "execution_count": 14,
   "metadata": {},
   "outputs": [
    {
     "name": "stdout",
     "output_type": "stream",
     "text": [
      "Mediana Anterior: 101.0\n",
      "Media Anterior: 191.27906976744185\n",
      "\n",
      "Datos reales.\n",
      "\t 8450.0\n",
      "\t 9022.0\n",
      "\t 9468.0\n",
      "\t 10128.0\n",
      "\t 10398.0\n",
      "\t 10850.0\n",
      "\t 11183.0\n",
      "\n",
      "Predicción probabilística semana.\n",
      "\t 8326.0\n",
      "\t 8427.0\n",
      "\t 8528.0\n",
      "\t 8629.0\n",
      "\t 8730.0\n",
      "\t 8831.0\n",
      "\t 8932.0\n"
     ]
    }
   ],
   "source": [
    "anterior = df[\"Ecuador\"][61:len(df)-7] # Filtro los datos que se empezo a tener casos\n",
    "y_anterior = list(df_t.iloc [:, 1]) # Total casos\n",
    "x_anterior = list(df_t.iloc [:, 0]) # Dias\n",
    "for i in range(7):\n",
    "    x_anterior.pop(-1)\n",
    "    y_anterior.pop(-1)\n",
    "#Obtenemos la mediana\n",
    "media_a = anterior.mean()\n",
    "mediana_a = anterior.median()\n",
    "print('Mediana Anterior:',mediana_a)\n",
    "print('Media Anterior:',media_a)\n",
    "prediccion_anterior = int(y_anterior[-1] + mediana_a)\n",
    "#print(\"Predicción: \",prediccion_anterior)\n",
    "anterior_p=y_anterior[-1]\n",
    "print('\\nDatos reales.')\n",
    "cont=len(y_anterior)\n",
    "for i in range(cont,cont+7):\n",
    "    print('\\t',y[i])\n",
    "print('\\nPredicción probabilística semana.')\n",
    "for i in range(7):\n",
    "    print('\\t',anterior_p+ mediana_a)\n",
    "    anterior_p=anterior_p+ mediana_a"
   ]
  },
  {
   "cell_type": "code",
   "execution_count": 15,
   "metadata": {},
   "outputs": [
    {
     "data": {
      "image/png": "[encoded data removed]",
      "text/plain": [
       "<Figure size 432x288 with 1 Axes>"
      ]
     },
     "metadata": {
      "needs_background": "light"
     },
     "output_type": "display_data"
    }
   ],
   "source": [
    "for i in range(x_anterior[-1], x_anterior[-1]+7):\n",
    "    x_anterior.append(i)\n",
    "    y_anterior.append(int(y_anterior[-1] + mediana_a))\n",
    "plt.plot(x_anterior[61:], y_anterior[61:])\n",
    "plt.show()"
   ]
  },
  {
   "cell_type": "markdown",
   "metadata": {},
   "source": [
    "#### Modelo matemático"
   ]
  },
  {
   "cell_type": "code",
   "execution_count": 16,
   "metadata": {},
   "outputs": [
    {
     "name": "stdout",
     "output_type": "stream",
     "text": [
      "w=  [ 2.23281645e+01 -2.86574701e-01 -1.30510636e-02  1.88356316e-04] \n",
      "b=  -139.6306392141853 \n",
      "RMSE: 412.54972279606744 \n",
      "R2: 0.9767170428440011\n",
      "\n",
      "Predicción matemática semana:\n",
      "\t 7242\n",
      "\t 7670\n",
      "\t 8114\n",
      "\t 8575\n",
      "\t 9055\n",
      "\t 9552\n",
      "\t 10068\n"
     ]
    }
   ],
   "source": [
    "from sklearn.preprocessing import PolynomialFeatures \n",
    "from sklearn.linear_model import LinearRegression \n",
    "from sklearn.metrics import mean_squared_error, r2_score\n",
    "\n",
    "xp = np.array(range(min(x_anterior),max(x_anterior)+7))\n",
    "grado=4\n",
    "model = LinearRegression()\n",
    "poly = PolynomialFeatures(degree=grado, include_bias=False)\n",
    "x_poly = poly.fit_transform(np.array(x_anterior).reshape(-1, 1))\n",
    "model.fit(x_poly, y_anterior)\n",
    "y_pred = model.predict(x_poly)\n",
    "rl = LinearRegression()\n",
    "rl.fit(x_poly, y_anterior) \n",
    "casos = poly.fit_transform(np.array(xp).reshape(-1, 1))\n",
    "prediccion = rl.predict(casos)\n",
    "rmse = np.sqrt(mean_squared_error(y_anterior,y_pred))\n",
    "r2 = r2_score(y_anterior,y_pred)\n",
    "print('w= ',model.coef_,'\\nb= ',model.intercept_,'\\nRMSE: ' + str(rmse),'\\nR2: ' + str(r2))\n",
    "print ('\\nPredicción matemática semana:')\n",
    "for i in range(len(x_anterior)-9,len(x_anterior)-2):\n",
    "    print('\\t',int(prediccion[i]))"
   ]
  },
  {
   "cell_type": "code",
   "execution_count": 17,
   "metadata": {},
   "outputs": [
    {
     "data": {
      "image/png": "[encoded data removed]",
      "text/plain": [
       "<Figure size 432x288 with 1 Axes>"
      ]
     },
     "metadata": {
      "needs_background": "light"
     },
     "output_type": "display_data"
    }
   ],
   "source": [
    "sols = {}\n",
    "for grado in range(grado,grado+1):\n",
    "    z = np.polyfit(x_anterior, y_anterior, grado, full=True)\n",
    "    sols[grado] = z\n",
    "    \n",
    "xp = np.array(range(min(x_anterior),max(x_anterior)+7))\n",
    "for grado, sol in sols.items():\n",
    "    coefs, error, *_ = sol\n",
    "    p = np.poly1d(coefs)\n",
    "\n",
    "plt.scatter(x_anterior, y_anterior)\n",
    "plt.plot(xp, p(xp), color='g')\n",
    "\n",
    "plt.ylabel(\"Total de personas infectadas\")\n",
    "plt.show()"
   ]
  },
  {
   "cell_type": "markdown",
   "metadata": {},
   "source": [
    "## Analisis\n",
    "\n",
    "Al comparar los modelos, se puede apreciar que en las predicciones el modelo matemático nos arroja una estimación de 13538 casos mientras que el modelo probabilístico nos da un valor de 12740, vemos que hay una diferencia menor de mil casos. \n",
    "\n",
    "Cuando se trata de estimar los valores de la última semana con el modelo probabilístico se aprecia que los datos que se obtienen no se acercan a lo datos reales, y hay una gran diferéncia entre ellos no existe una gran diferencia, por lo tanto, este se acerca más a los valores reales.\n",
    "Mienstras que con el modélo matemático \n",
    "\n",
    "## Conclusiones\n",
    "\n",
    "Una vez alizados ambos modelos, el modelo polinomial es el que se acerca mucho más a los valores reales, por lo tanto es el más certero. También se debe tener en cuenta que los datos no siguen una linea de crecimiento \"normal\" por decirlo así, puesto que existen días en los que no suben mucho el número de contagiados y existen otros donde el número de casos se duplica y sube drásticamente el número de casos.\n",
    "El SIR nos arroja la tasa de contagio de los valores que se están prediciendo en una semanana con el modelo probabilístico y nos obtiene los valores de beta de 0.35 y gamma de 0.23.\n",
    "\n",
    "## Criterio personal (politico, economico y  social de la situacion)\n",
    "\n",
    "El ámbito político del país, no creo que haya actuado correctamente y no haya tomado medidas de protección y prevención cuando debería ponerse en práctica. Por otro lado, el número real de casos activos no está claro. Ya sea porque es imposible analizar una gran cantidad de pruebas todos los días para actualizar el número a un número real, o porque está tratando de ocultar la cantidad de casos.\n",
    "\n",
    "En el frente económico, la pandemia ha tenido un gran impacto en la economía, debido a que las exportaciones y las ganancias se han reducido en gran medida debido al cierre de las fronteras. Esta situación también ha afectado a varios sectores comerciales, ya que algunos de ellos también se han paralizado. La economía familiar también se ve afectada. En algunos casos, les es imposible ir a trabajar día tras día. En algunos casos, tienen más medios de subsistencia.\n",
    "\n",
    "Con respecto a la situación social, algunas personas aún no se han dado cuenta de esta situación y no respetan las medidas de protección que se han intentado implementar. Los ejemplos vistos en el mercado son como un día normal. , Se infringe el toque de queda o no se resta el último dígito de la placa del número de días en circulación.\n",
    "Debido a esta actitud, lo único que se puede lograr es extender el tiempo de aislamiento y aumentar el número de infecciones, lo que lleva al colapso del sistema de salud. Desafortunadamente, el número de muertes aumentará.\n",
    "Por lo tanto, los intentos de \"nivelar\" la curva de infección serán inútiles."
   ]
  },
  {
   "cell_type": "markdown",
   "metadata": {},
   "source": [
    "# Referencias\n",
    "\n",
    "- https://www.researchgate.net/publication/340092755_Infeccion_del_Covid-19_en_Colombia_Una_comparacion_de_modelos_logisticos_y_exponenciales_aplicados_a_la_infeccion_por_el_virus_en_Colombia\n",
    "\n",
    "- https://www.aprendemachinelearning.com/regresion-lineal-en-espanol-con-python/"
   ]
  }
 ],
 "metadata": {
  "kernelspec": {
   "display_name": "Python 3",
   "language": "python",
   "name": "python3"
  },
  "language_info": {
   "codemirror_mode": {
    "name": "ipython",
    "version": 3
   },
   "file_extension": ".py",
   "mimetype": "text/x-python",
   "name": "python",
   "nbconvert_exporter": "python",
   "pygments_lexer": "ipython3",
   "version": "3.7.4"
  }
 },
 "nbformat": 4,
 "nbformat_minor": 2
}
