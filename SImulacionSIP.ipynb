{
 "cells": [
  {
   "cell_type": "markdown",
   "metadata": {},
   "source": [
    "**Estudiante:** Adriana Castillo"
   ]
  },
  {
   "cell_type": "markdown",
   "metadata": {},
   "source": [
    "# El modelo epidémico de SIR\n",
    "Una descripción matemática simple de la propagación de una enfermedad en una población es el llamado modelo SIR, que divide la población (fija) de N individuos en tres \"compartimentos\" que pueden variar en función del tiempo, t:\n",
    "\n",
    "* S(t) son aquellos susceptibles pero aún no infectados con la enfermedad;\n",
    "* I(t) es el número de individuos infecciosos;\n",
    "* R(t) son aquellas personas que se han recuperado de la enfermedad y ahora tienen inmunidad.\n",
    "\n",
    "El modelo SIR describe el cambio en la población de cada uno de estos compartimentos en términos de dos parámetros,  beta y  gamma.  \n",
    "- Beta describe la tasa de contacto efectiva de la enfermedad: un individuo infectado entra en contacto con  beta*N otros individuos por unidad de tiempo (de los cuales la fracción que es susceptible a contraer la enfermedad es S/N).  \n",
    "- Gamma es la tasa de recuperación promedio: es decir, 1/ gamma es el período de tiempo promedio durante el cual una persona infectada puede transmitirlo.\n",
    "\n",
    "Las ecuaciones diferenciales que describen este modelo fueron derivadas primero por Kermack y McKendrick [ Proc. R. Soc. A , 115 , 772 (1927)]:"
   ]
  },
  {
   "cell_type": "markdown",
   "metadata": {},
   "source": [
    "\\begin{align*}\n",
    "\\frac{\\mathrm{d}S}{\\mathrm{d}t} &= -\\frac{\\beta S I}{N},\\\\\n",
    "\\frac{\\mathrm{d}I}{\\mathrm{d}t} &= \\frac{\\beta S I}{N} - \\gamma I,\\\\\n",
    "\\frac{\\mathrm{d}R}{\\mathrm{d}t} &= \\gamma I.\n",
    "\\end{align*}"
   ]
  },
  {
   "cell_type": "markdown",
   "metadata": {},
   "source": [
    "El siguiente código de Python integra estas ecuaciones para una enfermedad caracterizada por los parámetros  beta=0.2, gamma=10  en una población de N=1000 (quizás 'gripe en una escuela ) El modelo se inicia con una sola persona infectada el día 0: I(0)=1. Las curvas trazadas de S(t), I(t) y R(t) están diseñadas para verse un poco mejor que los valores predeterminados de Matplotlib."
   ]
  },
  {
   "cell_type": "markdown",
   "metadata": {},
   "source": [
    "## Generar la prediccion del modelos SIR\n",
    "\n",
    " Se debe  estimar el valor de \n",
    "- β \n",
    "- γ\n",
    "\n",
    "Para ajustar el modelo SIR con los casos confirmados reales (el número de personas infecciosas) del Ecuador.\n",
    " \n",
    " Para ello deben seguir el siguiente tutorial \n",
    " https://www.lewuathe.com/covid-19-dynamics-with-sir-model.html\n",
    " \n"
   ]
  },
  {
   "cell_type": "code",
   "execution_count": 5,
   "metadata": {},
   "outputs": [
    {
     "data": {
      "text/html": [
       "<div>\n",
       "<style scoped>\n",
       "    .dataframe tbody tr th:only-of-type {\n",
       "        vertical-align: middle;\n",
       "    }\n",
       "\n",
       "    .dataframe tbody tr th {\n",
       "        vertical-align: top;\n",
       "    }\n",
       "\n",
       "    .dataframe thead th {\n",
       "        text-align: right;\n",
       "    }\n",
       "</style>\n",
       "<table border=\"1\" class=\"dataframe\">\n",
       "  <thead>\n",
       "    <tr style=\"text-align: right;\">\n",
       "      <th></th>\n",
       "      <th>date</th>\n",
       "      <th>Ecuador</th>\n",
       "      <th>Recuperados</th>\n",
       "    </tr>\n",
       "  </thead>\n",
       "  <tbody>\n",
       "    <tr>\n",
       "      <td>0</td>\n",
       "      <td>0</td>\n",
       "      <td>0</td>\n",
       "      <td>0</td>\n",
       "    </tr>\n",
       "    <tr>\n",
       "      <td>1</td>\n",
       "      <td>1</td>\n",
       "      <td>0</td>\n",
       "      <td>0</td>\n",
       "    </tr>\n",
       "    <tr>\n",
       "      <td>2</td>\n",
       "      <td>2</td>\n",
       "      <td>0</td>\n",
       "      <td>0</td>\n",
       "    </tr>\n",
       "    <tr>\n",
       "      <td>3</td>\n",
       "      <td>3</td>\n",
       "      <td>0</td>\n",
       "      <td>0</td>\n",
       "    </tr>\n",
       "    <tr>\n",
       "      <td>4</td>\n",
       "      <td>4</td>\n",
       "      <td>0</td>\n",
       "      <td>0</td>\n",
       "    </tr>\n",
       "    <tr>\n",
       "      <td>...</td>\n",
       "      <td>...</td>\n",
       "      <td>...</td>\n",
       "      <td>...</td>\n",
       "    </tr>\n",
       "    <tr>\n",
       "      <td>99</td>\n",
       "      <td>99</td>\n",
       "      <td>3995</td>\n",
       "      <td>140</td>\n",
       "    </tr>\n",
       "    <tr>\n",
       "      <td>100</td>\n",
       "      <td>100</td>\n",
       "      <td>4450</td>\n",
       "      <td>339</td>\n",
       "    </tr>\n",
       "    <tr>\n",
       "      <td>101</td>\n",
       "      <td>101</td>\n",
       "      <td>4965</td>\n",
       "      <td>368</td>\n",
       "    </tr>\n",
       "    <tr>\n",
       "      <td>102</td>\n",
       "      <td>102</td>\n",
       "      <td>7161</td>\n",
       "      <td>411</td>\n",
       "    </tr>\n",
       "    <tr>\n",
       "      <td>103</td>\n",
       "      <td>103</td>\n",
       "      <td>7257</td>\n",
       "      <td>501</td>\n",
       "    </tr>\n",
       "  </tbody>\n",
       "</table>\n",
       "<p>104 rows × 3 columns</p>\n",
       "</div>"
      ],
      "text/plain": [
       "     date  Ecuador  Recuperados\n",
       "0       0        0            0\n",
       "1       1        0            0\n",
       "2       2        0            0\n",
       "3       3        0            0\n",
       "4       4        0            0\n",
       "..    ...      ...          ...\n",
       "99     99     3995          140\n",
       "100   100     4450          339\n",
       "101   101     4965          368\n",
       "102   102     7161          411\n",
       "103   103     7257          501\n",
       "\n",
       "[104 rows x 3 columns]"
      ]
     },
     "execution_count": 5,
     "metadata": {},
     "output_type": "execute_result"
    }
   ],
   "source": [
    "# Implementar y explicar la predicion del modelo SIR para el Ecuador\n",
    "\n",
    "# 1. Implementar solo teniendo en cuenta los casos confirmados\n",
    "\n",
    "# 2. Implementar teniendo en cuenta los casos confirmados y recuperados.\n",
    "\n",
    "\n",
    "import pandas as pd\n",
    "import numpy as np\n",
    "from datetime import datetime,timedelta\n",
    "from sklearn.metrics import mean_squared_error\n",
    "from scipy.optimize import curve_fit\n",
    "from scipy.optimize import fsolve\n",
    "from sklearn import linear_model\n",
    "import matplotlib.pyplot as plt\n",
    "\n",
    "\n",
    "\n",
    "df = pd.read_csv('Covid_Ec.csv',sep=';')\n",
    "FMT = '%d/%m/%Y'\n",
    "date = df['date']\n",
    "df['date'] = date.map(lambda x : (datetime.strptime(x, FMT) - datetime.strptime(\"31/12/2019\", FMT)).days)\n",
    "df"
   ]
  },
  {
   "cell_type": "code",
   "execution_count": 6,
   "metadata": {},
   "outputs": [
    {
     "name": "stdout",
     "output_type": "stream",
     "text": [
      "(array([  0.10405587,  -0.10808026, -45.08860463]), array([[ 9.98025647e-04,  9.58601471e-05, -3.72344129e-01],\n",
      "       [ 9.58601471e-05,  9.22611026e-06, -3.45833098e-02],\n",
      "       [-3.72344129e-01, -3.45833098e-02,  5.98593647e+02]]))\n"
     ]
    }
   ],
   "source": [
    "x = list(df.iloc [:, 0]) # Fecha\n",
    "y = list(df.iloc [:, 1]) # Numero de casos\n",
    "def  exponencial ( x ,  a ,  b ,  c ): \n",
    "    return a * np . exp ( - b * x ) + c\n",
    "exp_fit = curve_fit ( exponencial ,  x ,  y ,  p0 = ( 1 ,  1e-6 ,  1 ))\n",
    "print(exp_fit)"
   ]
  },
  {
   "cell_type": "code",
   "execution_count": 7,
   "metadata": {},
   "outputs": [
    {
     "name": "stdout",
     "output_type": "stream",
     "text": [
      "Casos en el día 120: 44659.6981080675\n"
     ]
    },
    {
     "data": {
      "image/png": "[encoded data removed]",
      "text/plain": [
       "<Figure size 432x288 with 1 Axes>"
      ]
     },
     "metadata": {
      "needs_background": "light"
     },
     "output_type": "display_data"
    }
   ],
   "source": [
    "pred_x = list(range(min(x),max(x)+100)) # Predecir 70 dias mas\n",
    "plt.scatter(x,y,label=\"Datos Reales\",color=\"red\")\n",
    "# Predicted exponential curve\n",
    "plt.plot(pred_x, [exponencial(i,exp_fit[0][0],exp_fit[0][1],c= ( 1 ,  1e-6 ,  1 )) for i in pred_x], label=\"Modelo Exponencial\" )\n",
    "plt.xlabel(\"Desde el 1 Enero 2020\")\n",
    "plt.ylabel(\"Total de personas infectadas\")\n",
    "plt.xlim(60, max(x)*1.21)\n",
    "plt.ylim(0, max(y)*3.1)\n",
    "\n",
    "casos=pred_x, [exponencial(i,exp_fit[0][0],exp_fit[0][1],c= ( 1 ,  1e-6 ,  1 )) for i in pred_x]\n",
    "print('Casos en el día 120:',casos[1][120][0])\n",
    "plt.show()"
   ]
  },
  {
   "cell_type": "code",
   "execution_count": 75,
   "metadata": {},
   "outputs": [
    {
     "name": "stdout",
     "output_type": "stream",
     "text": [
      "0.012123624848145062\n",
      "0.4\n"
     ]
    }
   ],
   "source": [
    "import numpy as np\n",
    "import pandas as pd\n",
    "from scipy.integrate import solve_ivp\n",
    "from scipy.optimize import minimize\n",
    "import matplotlib.pyplot as plt\n",
    "from datetime import timedelta, datetime\n",
    "\n",
    "data=list(df.iloc[:,1])\n",
    "                                                                    \n",
    "\n",
    "poblacion=44000\n",
    "i0=44659\n",
    "r0=0\n",
    "s0=poblacion - i0 - r0\n",
    "        \n",
    "def loss(point, data):\n",
    "    size = len(data)\n",
    "    beta, gamma = point\n",
    "    def SIR(t, y):\n",
    "        S = y[0]\n",
    "        I = y[1]\n",
    "        R = y[2]\n",
    "        return [-beta*S*I, beta*S*I-gamma*I, gamma*I]\n",
    "    solution = solve_ivp(SIR, [0, size], [s0,i0,r0], t_eval=np.arange(0, size, 1), vectorized=True)\n",
    "    return np.sqrt(np.mean((solution.y[1] - data)**2))\n",
    "\n",
    "optimal = minimize(loss,[0.001, 0.001],args=(data),method='L-BFGS-B',bounds=[(0.00000001, 0.4), (0.00000001, 0.4)])\n",
    "betaS,gamaS=optimal.x\n",
    "print(betaS)\n",
    "print(gamaS)"
   ]
  },
  {
   "cell_type": "code",
   "execution_count": 76,
   "metadata": {},
   "outputs": [
    {
     "name": "stdout",
     "output_type": "stream",
     "text": [
      "0.012123624848145062\n",
      "0.4\n"
     ]
    },
    {
     "data": {
      "image/png": "[encoded data removed]",
      "text/plain": [
       "<Figure size 432x288 with 1 Axes>"
      ]
     },
     "metadata": {},
     "output_type": "display_data"
    }
   ],
   "source": [
    "#Importar las librerias.\n",
    "import numpy as np\n",
    "from scipy.integrate import odeint\n",
    "import matplotlib.pyplot as plt\n",
    "\n",
    "# Total de la poblacion\n",
    "N = poblacion\n",
    "# Numero Inicial de Infectados\n",
    "I0 = i0\n",
    "# Numero de Recuperados\n",
    "R0 = r0\n",
    "# Todos los demás, S0, son susceptibles a la infección inicialmente.\n",
    "S0 = N - I0 - R0\n",
    "# Tasa de contacto, beta (nivel de repoductividad del virus) \n",
    "# La tasa de recuperación media, gamma,(1/días) Una persona se recupera en 15 dias.\n",
    "beta, gamma = betaS,gamaS \n",
    "# Una cuadrícula de puntos de tiempo (en días)\n",
    "t = np.linspace(0, 20, 50)\n",
    "\n",
    "\n",
    "# Las ecuaciones diferenciales del modelo SIR..\n",
    "def deriv(y, t, N, beta, gamma):\n",
    "    S, I, R = y\n",
    "    dSdt = -beta * S * I / N \n",
    "    dIdt = beta * S * I / N - gamma * I\n",
    "    dRdt = gamma * I\n",
    "    return dSdt, dIdt, dRdt\n",
    "\n",
    "# Vector de condiciones iniciales\n",
    "y0 = S0, I0, R0\n",
    "# Integre las ecuaciones SIR en la cuadrícula de tiempo, t. A traves de la funcion odeint()\n",
    "ret = odeint(deriv, y0, t, args=(N, beta, gamma))\n",
    "S, I, R = ret.T # Obtenicion de resultados\n",
    "\n",
    "\n",
    "#  Trace los datos en tres curvas separadas para S (t), I (t) y R (t)\n",
    "fig = plt.figure(facecolor='w')\n",
    "ax = fig.add_subplot(111,  axisbelow=True)\n",
    "ax.plot(t, S, 'b', alpha=0.5, lw=2, label='Sustible de infeccion')\n",
    "ax.plot(t, I, 'r', alpha=0.5, lw=2, label='Infectados')\n",
    "ax.plot(t, R, 'g', alpha=0.5, lw=2, label='Recuperados')\n",
    "ax.set_xlabel('Tiempo en dias')\n",
    "ax.set_ylabel('Numero de Personas')\n",
    "#ax.set_ylim(0,N*1.2)\n",
    "#ax.yaxis.set_tick_params(length=0)\n",
    "#ax.xaxis.set_tick_params(length=0)\n",
    "#ax.grid(b=True, which='major', c='w', lw=2, ls='-')\n",
    "legend = ax.legend()\n",
    "#legend.get_frame().set_alpha(0.5)\n",
    "#for spine in ('top', 'right', 'bottom', 'left'):\n",
    "#    ax.spines[spine].set_visible(False)\n",
    "#plt.show()\n",
    "\n",
    "#Ro = beta/gamma\n",
    "#print(Ro)\n",
    "print(beta)\n",
    "print(gamma)"
   ]
  },
  {
   "cell_type": "markdown",
   "metadata": {},
   "source": [
    "\n",
    "## Calculos de incidencia\n",
    "\n",
    "Para obtener metricas de incidencia se debe calcular la tasa de prevalencia, incidencia y la relacion, para esto leer y obtener estos datos con la ultima lectura.\n",
    "\n",
    "https://www.paho.org/hq/index.php?option=com_content&view=article&id=14402:indicadores-de-salud-aspectos-conceptuales-y-operativos-seccion-2&catid=9894&limitstart=2&Itemid=101&lang=es"
   ]
  },
  {
   "cell_type": "code",
   "execution_count": 25,
   "metadata": {},
   "outputs": [
    {
     "name": "stdout",
     "output_type": "stream",
     "text": [
      "Tasa de Incidencia:  10119.652081769615\n",
      "Tasa de Prevalencia:  21036.23884608381\n",
      "Relación:  283350.2582895492\n"
     ]
    }
   ],
   "source": [
    "# Implementar\n",
    "def incidencia(nuevos,riesgo,n):\n",
    "    return (nuevos/riesgo)*pow(10,n)\n",
    "\n",
    "def prevalencia(casos,poblacion,n):\n",
    "    return (casos/poblacion)*pow(10,n)\n",
    "\n",
    "def relacion(incidencia,tiempo):\n",
    "    return incidencia*tiempo\n",
    "\n",
    "inci=incidencia(2292,22649,5)\n",
    "prev=prevalencia(134,636.996,5)\n",
    "rela=relacion(inci,28)\n",
    "\n",
    "print('Tasa de Incidencia: ',inci)\n",
    "print('Tasa de Prevalencia: ',prev)\n",
    "print('Relación: ',rela)"
   ]
  },
  {
   "cell_type": "markdown",
   "metadata": {},
   "source": [
    "## Analisis\n",
    "\n",
    "## Conclusiones\n",
    "\n",
    "## Opinion"
   ]
  },
  {
   "cell_type": "markdown",
   "metadata": {},
   "source": [
    "# Referencias:\n",
    "- https://www.agenciasinc.es/Reportajes/Un-modelo-un-teorema-y-teoria-de-juegos-contra-el-coronavirus\n",
    "- https://rpubs.com/dsfernandez/422937\n",
    "- https://towardsdatascience.com/modelling-the-coronavirus-epidemic-spreading-in-a-city-with-python-babd14d82fa2"
   ]
  }
 ],
 "metadata": {
  "kernelspec": {
   "display_name": "Python 3",
   "language": "python",
   "name": "python3"
  },
  "language_info": {
   "codemirror_mode": {
    "name": "ipython",
    "version": 3
   },
   "file_extension": ".py",
   "mimetype": "text/x-python",
   "name": "python",
   "nbconvert_exporter": "python",
   "pygments_lexer": "ipython3",
   "version": "3.7.4"
  }
 },
 "nbformat": 4,
 "nbformat_minor": 2
}
