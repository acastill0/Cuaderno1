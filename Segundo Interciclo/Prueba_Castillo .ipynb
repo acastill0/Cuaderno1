{
 "cells": [
  {
   "cell_type": "markdown",
   "metadata": {},
   "source": [
    "# Prueba Adriana Castillo"
   ]
  },
  {
   "cell_type": "markdown",
   "metadata": {},
   "source": [
    "Se buscar encontrar la eficiencia de la generación de números pseudo-aletorios a través de los métodos de cuadrados medios y congruencia lineal, para ello se debe seguir el siguiente proceso:\n",
    "\n",
    "1. A traves de la misma api generar una semilla diferente. \n",
    "\n",
    "2. Encontrar el numero de iteraciones hasta que se repita uno de sus datos.\n",
    "\n",
    "3. Generar 100 simulaciones con diferentes semillas.\n",
    "\n",
    "4. Generar un histograma con el resultado obtenidos por cada método.\n",
    "\n",
    "5. Agregar sus conclusiones, opiniones y recomendaciones"
   ]
  },
  {
   "cell_type": "markdown",
   "metadata": {},
   "source": [
    "## Método de cuadrados medios\n",
    "1. A traves de la misma api generar una semilla diferente. "
   ]
  },
  {
   "cell_type": "code",
   "execution_count": 1,
   "metadata": {},
   "outputs": [
    {
     "name": "stdout",
     "output_type": "stream",
     "text": [
      "Semillas generadas: \n",
      " ['9710', '2841', '0712', '0694', '8163', '6345', '2590', '7081', '1405', '9740', '8676', '2729', '4474', '0166', '2755', '5900', '8100', '6100', '2100', '4100', '8100', '6100', '2100', '4100', '8100', '6100', '2100', '4100', '8100', '6100', '2100', '4100', '8100', '6100', '2100', '4100', '8100', '6100', '2100', '4100', '8100', '6100', '2100', '4100', '8100', '6100', '2100', '4100', '8100', '6100', '2100', '4100', '8100', '6100', '2100', '4100', '8100', '6100', '2100', '4100', '8100', '6100', '2100', '4100', '8100', '6100', '2100', '4100', '8100', '6100', '2100', '4100', '8100', '6100', '2100', '4100', '8100', '6100', '2100', '4100', '8100', '6100', '2100', '4100', '8100', '6100', '2100', '4100', '8100', '6100', '2100', '4100', '8100', '6100', '2100', '4100', '8100', '6100', '2100', '4100']\n"
     ]
    }
   ],
   "source": [
    "import pandas as pd, math\n",
    "cuadrados={}\n",
    "repetidos=[]\n",
    "unicos=[]\n",
    "iteraciones_s = 100\n",
    "semilla_s = 910932#1029 #int(input (\"Semilla: \"))\n",
    "digitos_s = 4\n",
    "\n",
    "val_xn_s=[]\n",
    "val_xn_m_s=[]\n",
    "val_ui_semillas=[]\n",
    "val_rn_s=[]\n",
    "div_s=[int(str(num).ljust(digitos_s+1, \"0\")) for num in [1]]\n",
    "ui_s=\"\"\n",
    "izq_s=int(digitos_s/2)\n",
    "der_s=digitos_s-izq_s\n",
    "\n",
    "for i in range(iteraciones_s):\n",
    "    if(len(str(semilla_s))>=3):\n",
    "        if(len(str(semilla_s*semilla_s))>digitos_s):\n",
    "            val_xn_s.append(semilla_s)\n",
    "            val_xn_m_s.append(semilla_s*semilla_s)\n",
    "            numero_s = str(semilla_s*semilla_s)\n",
    "            mitad_s=math.floor(len(numero_s)/2)\n",
    "            if(int(numero_s)>0):\n",
    "                for p in range(mitad_s-izq_s, mitad_s+der_s, 1): ui_s+=numero_s[p]\n",
    "            val_ui_semillas.append(ui_s)\n",
    "            val_rn_s.append(int(ui_s)/div_s[0])  \n",
    "            semilla_s=int(val_ui_semillas[-1])\n",
    "            ui_s=''\n",
    "        else:\n",
    "            print('\\n* Número de dígitos es muy alto')\n",
    "            break\n",
    "    else:\n",
    "        print('\\n* * La semilla debe ser mayor a 0 y de 3 dígitos')\n",
    "        break\n",
    "\n",
    "print('Semillas generadas: \\n',val_ui_semillas)"
   ]
  },
  {
   "cell_type": "markdown",
   "metadata": {},
   "source": [
    "2. Encontrar el numero de iteraciones hasta que se repita uno de sus datos."
   ]
  },
  {
   "cell_type": "code",
   "execution_count": 2,
   "metadata": {},
   "outputs": [],
   "source": [
    "def cuadrados_medios(semilla):\n",
    "    rep=1\n",
    "    iteraciones = 1000\n",
    "    digitos = 4\n",
    "    val_xn=[]\n",
    "    val_xn_m=[]\n",
    "    val_ui=[]\n",
    "    val_rn=[]\n",
    "    div=[int(str(num).ljust(digitos+1, \"0\")) for num in [1]]\n",
    "    ui=\"\"\n",
    "    izq=int(digitos/2)\n",
    "    der=digitos-izq\n",
    "\n",
    "    for i in range(iteraciones):\n",
    "        val_xn.append(semilla)\n",
    "        val_xn_m.append(semilla*semilla)\n",
    "        numero = str(semilla*semilla)\n",
    "        mitad=math.floor(len(numero)/2)\n",
    "        for p in range(mitad-izq, mitad+der, 1): ui+=numero[p]\n",
    "        if ui in val_ui:\n",
    "            #print('Repetido', ui, ' pos: ',rep)\n",
    "            cuadrados[rep] = cuadrados[rep] + 1 if rep in cuadrados else  1\n",
    "            break\n",
    "        unicos.append(ui)\n",
    "        val_ui.append(ui)\n",
    "        val_rn.append(int(ui)/div[0])  \n",
    "        semilla=int(val_ui[-1])\n",
    "        ui=''\n",
    "        rep+=1\n",
    "        #print(val_ui)"
   ]
  },
  {
   "cell_type": "markdown",
   "metadata": {},
   "source": [
    "3. Generar 100 simulaciones con diferentes semillas."
   ]
  },
  {
   "cell_type": "code",
   "execution_count": 3,
   "metadata": {},
   "outputs": [
    {
     "name": "stdout",
     "output_type": "stream",
     "text": [
      "{20: 1, 19: 1, 18: 1, 17: 1, 16: 1, 15: 1, 14: 1, 13: 1, 12: 1, 11: 1, 10: 1, 9: 1, 8: 1, 7: 1, 6: 1, 5: 85}\n"
     ]
    }
   ],
   "source": [
    "cuadrados={}\n",
    "for x in val_ui_semillas:\n",
    "    #print(' ',ite,'º --> Semilla:', x)\n",
    "    #ite+=1\n",
    "    cuadrados_medios(int(x))\n",
    "\n",
    "print(cuadrados)"
   ]
  },
  {
   "cell_type": "markdown",
   "metadata": {},
   "source": [
    "4. Generar un histograma con el resultado."
   ]
  },
  {
   "cell_type": "code",
   "execution_count": 9,
   "metadata": {},
   "outputs": [
    {
     "data": {
      "image/png": "[encoded data removed]",
      "text/plain": [
       "<Figure size 432x288 with 1 Axes>"
      ]
     },
     "metadata": {
      "needs_background": "light"
     },
     "output_type": "display_data"
    }
   ],
   "source": [
    "import matplotlib.pyplot as plt\n",
    "\n",
    "D = cuadrados\n",
    "plt.bar(range(len(D)), list(D.values()), align='center')\n",
    "plt.xticks(range(len(D)), list(D.keys()))\n",
    "plt.show()"
   ]
  },
  {
   "cell_type": "markdown",
   "metadata": {},
   "source": [
    "## Método de congruencias lineales\n",
    "1. A traves de la misma api generar una semilla diferente. "
   ]
  },
  {
   "cell_type": "code",
   "execution_count": 5,
   "metadata": {},
   "outputs": [
    {
     "name": "stdout",
     "output_type": "stream",
     "text": [
      "Semillas generadas: \n",
      " [1, 8, 10, 16, 15, 12, 3, 14, 9, 13, 6, 4, 17, 18, 2, 11, 0, 5, 1, 8, 10, 16, 15, 12, 3, 14, 9, 13, 6, 4, 17, 18, 2, 11, 0, 5, 1, 8, 10, 16, 15, 12, 3, 14, 9, 13, 6, 4, 17, 18, 2, 11, 0, 5, 1, 8, 10, 16, 15, 12, 3, 14, 9, 13, 6, 4, 17, 18, 2, 11, 0, 5, 1, 8, 10, 16, 15, 12, 3, 14, 9, 13, 6, 4, 17, 18, 2, 11, 0, 5, 1, 8, 10, 16, 15, 12, 3, 14, 9, 13, 6]\n"
     ]
    }
   ],
   "source": [
    "import pandas as pd, math\n",
    "congruencias={}\n",
    "iteraciones_cl =100\n",
    "semilla_cl= 1 ##Semilla inicial\n",
    "a_cl=3\n",
    "b_cl=5\n",
    "m_cl=19\n",
    "val_xn_cl=[semilla_cl]\n",
    "val_un_cl=['']\n",
    "\n",
    "for i in range(iteraciones_cl): val_xn_cl.append((a_cl*val_xn_cl[-1]+b_cl)%m_cl) ; val_un_cl.append(val_xn_cl[-1]/m_cl)\n",
    "    \n",
    "print('Semillas generadas: \\n',val_xn_cl)"
   ]
  },
  {
   "cell_type": "markdown",
   "metadata": {},
   "source": [
    "2. Encontrar el numero de iteraciones hasta que se repita uno de sus datos."
   ]
  },
  {
   "cell_type": "code",
   "execution_count": 6,
   "metadata": {},
   "outputs": [],
   "source": [
    "def congurencias_lineales(semillas):\n",
    "    semilla=semillas\n",
    "    rep_c=1\n",
    "    iteraciones = 1000\n",
    "    a=3\n",
    "    b=9\n",
    "    m=5\n",
    "    val_xn=[semilla]\n",
    "    val_un=['']\n",
    "\n",
    "    for i in range(iteraciones): \n",
    "        xn=(a*val_xn[-1]+b)%m\n",
    "        if xn in val_xn:\n",
    "            congruencias[rep_c] = congruencias[rep_c] + 1 if rep_c in congruencias else  1\n",
    "            break\n",
    "\n",
    "        val_xn.append(xn)\n",
    "        val_un.append(val_xn[-1]/m)\n",
    "        rep_c+=1\n",
    "    #print(val_xn)"
   ]
  },
  {
   "cell_type": "markdown",
   "metadata": {},
   "source": [
    "3. Generar 100 simulaciones con diferentes semillas."
   ]
  },
  {
   "cell_type": "code",
   "execution_count": 7,
   "metadata": {},
   "outputs": [
    {
     "name": "stdout",
     "output_type": "stream",
     "text": [
      "{4: 21, 2: 17, 5: 57, 1: 6}\n"
     ]
    }
   ],
   "source": [
    "for x in val_xn_cl:\n",
    "    congurencias_lineales(int(x))\n",
    "print(congruencias)"
   ]
  },
  {
   "cell_type": "markdown",
   "metadata": {},
   "source": [
    "4. Generar un histograma con el resultado."
   ]
  },
  {
   "cell_type": "code",
   "execution_count": 8,
   "metadata": {},
   "outputs": [
    {
     "data": {
      "image/png": "[encoded data removed]",
      "text/plain": [
       "<Figure size 432x288 with 1 Axes>"
      ]
     },
     "metadata": {
      "needs_background": "light"
     },
     "output_type": "display_data"
    }
   ],
   "source": [
    "import matplotlib.pyplot as plt\n",
    "\n",
    "D = congruencias\n",
    "plt.bar(range(len(D)), list(D.values()), align='center')\n",
    "plt.xticks(range(len(D)), list(D.keys()))\n",
    "plt.show()"
   ]
  },
  {
   "cell_type": "markdown",
   "metadata": {},
   "source": [
    "# Conclusiones, opiniones y recomendaciones"
   ]
  },
  {
   "cell_type": "markdown",
   "metadata": {},
   "source": [
    "Como conclusión podemos observar que en el metodo de cuadrados medios en la iteración 5 ocurre el mayor numero de repeticiones y en las demas solo se repite una vez, mientras que en el metodo de congruencia lineal donde aparecen las repeticiones va variando y no unicamente en la iteración número 5.\n",
    "\n",
    "Como opinion pienso que el método de cuadrados medios es mejor ya que va alternando los números generados y es más variado.\n",
    "\n",
    "Como recomendación se debe tener en cuenta la semilla inicial que se escoja para que no se repitan las semillas generadas para las iteraciones."
   ]
  }
 ],
 "metadata": {
  "kernelspec": {
   "display_name": "Python 3",
   "language": "python",
   "name": "python3"
  },
  "language_info": {
   "codemirror_mode": {
    "name": "ipython",
    "version": 3
   },
   "file_extension": ".py",
   "mimetype": "text/x-python",
   "name": "python",
   "nbconvert_exporter": "python",
   "pygments_lexer": "ipython3",
   "version": "3.6.9"
  }
 },
 "nbformat": 4,
 "nbformat_minor": 2
}
